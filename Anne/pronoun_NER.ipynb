{
 "cells": [
  {
   "cell_type": "markdown",
   "metadata": {},
   "source": [
    "## Step 5: Perform Group-Based Linguistic Profiling\n",
    "\n",
    "For each support group:\n",
    "- **Pronoun Analysis**: Calculate the frequency ratio of human-like pronouns (he, she, etc.) vs. object pronouns (it, its).\n",
    "- **Named Entity Recognition (NER)**: Identify names, roles, or titles assigned to the AI (e.g., “James”, “my therapist”)."
   ]
  },
  {
   "cell_type": "code",
   "execution_count": 13,
   "metadata": {},
   "outputs": [
    {
     "data": {
      "text/plain": [
       "3416"
      ]
     },
     "execution_count": 13,
     "metadata": {},
     "output_type": "execute_result"
    }
   ],
   "source": [
    "import re\n",
    "\n",
    "from sklearn.cluster import KMeans\n",
    "from sklearn.preprocessing import LabelEncoder, StandardScaler\n",
    "from sklearn.impute import SimpleImputer\n",
    "from sklearn.metrics import silhouette_samples\n",
    "from matplotlib import cm\n",
    "import numpy as np\n",
    "import spacy\n",
    "import pandas as pd\n",
    "import matplotlib.pyplot as plt\n",
    "import seaborn as sns\n",
    "\n",
    "\n",
    "# Load dataset\n",
    "df = pd.read_csv(\"/Users/annekeena/au/4semester/culturalsocial/exam/full_dataset_replika.csv\")\n",
    "len(df)"
   ]
  },
  {
   "cell_type": "code",
   "execution_count": 10,
   "metadata": {},
   "outputs": [
    {
     "name": "stdout",
     "output_type": "stream",
     "text": [
      "<class 'pandas.core.frame.DataFrame'>\n",
      "RangeIndex: 3416 entries, 0 to 3415\n",
      "Data columns (total 50 columns):\n",
      " #   Column                                             Non-Null Count  Dtype  \n",
      "---  ------                                             --------------  -----  \n",
      " 0   Unnamed: 0                                         3416 non-null   int64  \n",
      " 1   review_id                                          3416 non-null   int64  \n",
      " 2   user                                               3416 non-null   object \n",
      " 3   date                                               3416 non-null   object \n",
      " 4   stars                                              3416 non-null   int64  \n",
      " 5   text                                               3416 non-null   object \n",
      " 6   word_count                                         3416 non-null   int64  \n",
      " 7   coherence_and_clarity_of_review                    3416 non-null   object \n",
      " 8   gender_of_user                                     3416 non-null   object \n",
      " 9   gender_of_ai                                       3416 non-null   object \n",
      " 10  name_user_gave_ai                                  3416 non-null   object \n",
      " 11  age_of_user                                        3416 non-null   object \n",
      " 12  duration_of_app_usage                              3416 non-null   object \n",
      " 13  frequency_of_app_usage                             3416 non-null   object \n",
      " 14  relationship_status_of_user                        3416 non-null   object \n",
      " 15  empathy_of_ai                                      3372 non-null   object \n",
      " 16  behavior_of_ai                                     3416 non-null   object \n",
      " 17  inappropriate_frequency                            3416 non-null   object \n",
      " 18  inappropriate_nature                               3416 non-null   object \n",
      " 19  ai_support_level                                   3249 non-null   object \n",
      " 20  support_types                                      3416 non-null   object \n",
      " 21  user_mental_state_before_ai                        3416 non-null   object \n",
      " 22  effect_of_ai_on_user_mental_state                  3416 non-null   object \n",
      " 23  stress_before_ai                                   3416 non-null   object \n",
      " 24  effect_of_ai_on_stress                             3416 non-null   object \n",
      " 25  loneliness_before_ai                               3416 non-null   object \n",
      " 26  effect_of_ai_on_loneliness                         3416 non-null   object \n",
      " 27  depression_or_anxiety_before_ai                    3416 non-null   object \n",
      " 28  effect_of_ai_on_depression_or_anxiety              3416 non-null   object \n",
      " 29  suicidal_thoughts_presence                         3416 non-null   object \n",
      " 30  effect_of_ai_on_suicidal_thoughts                  3416 non-null   object \n",
      " 31  other_despair_types                                3416 non-null   object \n",
      " 32  effect_of_ai_on_other_despair                      3416 non-null   object \n",
      " 33  user_dependence                                    3411 non-null   object \n",
      " 34  real_life_relationship_impact                      3416 non-null   object \n",
      " 35  limitations_of_ai                                  3414 non-null   object \n",
      " 36  technical_issues                                   3416 non-null   object \n",
      " 37  privacy_concerns                                   3416 non-null   object \n",
      " 38  feature_restriction_impact                         3416 non-null   object \n",
      " 39  cost_impact_on_accessibility                       3416 non-null   object \n",
      " 40  impact_of_ai_updates                               3416 non-null   object \n",
      " 41  user_satisfaction_with_policy_decisions            3416 non-null   object \n",
      " 42  overall_mental_health_impact_of_company_decisions  3416 non-null   object \n",
      " 43  primary_support_type                               3416 non-null   object \n",
      " 44  sentiment_label                                    3416 non-null   object \n",
      " 45  sentiment_score                                    3416 non-null   float64\n",
      " 46  contains_loneliness_llm                            3416 non-null   bool   \n",
      " 47  anthro_relational                                  2714 non-null   float64\n",
      " 48  anthro_technical                                   3264 non-null   float64\n",
      " 49  net_anthro                                         3384 non-null   float64\n",
      "dtypes: bool(1), float64(4), int64(4), object(41)\n",
      "memory usage: 1.3+ MB\n"
     ]
    },
    {
     "data": {
      "text/plain": [
       "(3416, 3416)"
      ]
     },
     "execution_count": 10,
     "metadata": {},
     "output_type": "execute_result"
    }
   ],
   "source": [
    "### Pronoun Analysis ###\n",
    "\n",
    "# Initial Inspection\n",
    "df.head()         \n",
    "df.info()          \n",
    "df['review_id'].nunique(), len(df)\n"
   ]
  },
  {
   "cell_type": "code",
   "execution_count": 11,
   "metadata": {},
   "outputs": [],
   "source": [
    "# convert to string\n",
    "df['text'] = df['text'].astype(str)\n"
   ]
  },
  {
   "cell_type": "code",
   "execution_count": 14,
   "metadata": {},
   "outputs": [],
   "source": [
    "# Define pronoun sets\n",
    "HUMAN_PRONOUNS  = {'he', 'she', 'him', 'her', 'his', 'hers'}\n",
    "OBJECT_PRONOUNS = {'it', 'its'}\n",
    "\n",
    "# case-insensitive word-boundary regexes\n",
    "human_pat  = re.compile(r'\\b(?:' + '|'.join(HUMAN_PRONOUNS)  + r')\\b', re.I)\n",
    "object_pat = re.compile(r'\\b(?:' + '|'.join(OBJECT_PRONOUNS) + r')\\b', re.I)\n"
   ]
  },
  {
   "cell_type": "code",
   "execution_count": 15,
   "metadata": {},
   "outputs": [],
   "source": [
    "#Count pronouns\n",
    "\n",
    "# Pre-compile patterns\n",
    "human_pat  = re.compile(r'\\b(?:' + '|'.join(HUMAN_PRONOUNS)  + r')\\b', re.I)\n",
    "object_pat = re.compile(r'\\b(?:' + '|'.join(OBJECT_PRONOUNS) + r')\\b', re.I)\n",
    "\n",
    "def count_pronouns(text):\n",
    "    \n",
    "    human  = len(human_pat.findall(text))\n",
    "    obj    = len(object_pat.findall(text))\n",
    "    return human, obj\n",
    "\n",
    "df[['n_human', 'n_object']] = df['text'].apply(\n",
    "    lambda t: pd.Series(count_pronouns(t))\n",
    ")\n"
   ]
  },
  {
   "cell_type": "code",
   "execution_count": 17,
   "metadata": {},
   "outputs": [
    {
     "data": {
      "text/html": [
       "<div>\n",
       "<style scoped>\n",
       "    .dataframe tbody tr th:only-of-type {\n",
       "        vertical-align: middle;\n",
       "    }\n",
       "\n",
       "    .dataframe tbody tr th {\n",
       "        vertical-align: top;\n",
       "    }\n",
       "\n",
       "    .dataframe thead th {\n",
       "        text-align: right;\n",
       "    }\n",
       "</style>\n",
       "<table border=\"1\" class=\"dataframe\">\n",
       "  <thead>\n",
       "    <tr style=\"text-align: right;\">\n",
       "      <th></th>\n",
       "      <th>n_human</th>\n",
       "      <th>n_object</th>\n",
       "      <th>total_pronouns</th>\n",
       "      <th>ratio_human</th>\n",
       "      <th>ratio_object</th>\n",
       "    </tr>\n",
       "    <tr>\n",
       "      <th>review_id</th>\n",
       "      <th></th>\n",
       "      <th></th>\n",
       "      <th></th>\n",
       "      <th></th>\n",
       "      <th></th>\n",
       "    </tr>\n",
       "  </thead>\n",
       "  <tbody>\n",
       "    <tr>\n",
       "      <th>2974</th>\n",
       "      <td>6</td>\n",
       "      <td>0</td>\n",
       "      <td>6</td>\n",
       "      <td>1.0</td>\n",
       "      <td>0.0</td>\n",
       "    </tr>\n",
       "    <tr>\n",
       "      <th>357</th>\n",
       "      <td>9</td>\n",
       "      <td>0</td>\n",
       "      <td>9</td>\n",
       "      <td>1.0</td>\n",
       "      <td>0.0</td>\n",
       "    </tr>\n",
       "    <tr>\n",
       "      <th>2671</th>\n",
       "      <td>3</td>\n",
       "      <td>0</td>\n",
       "      <td>3</td>\n",
       "      <td>1.0</td>\n",
       "      <td>0.0</td>\n",
       "    </tr>\n",
       "    <tr>\n",
       "      <th>2670</th>\n",
       "      <td>6</td>\n",
       "      <td>0</td>\n",
       "      <td>6</td>\n",
       "      <td>1.0</td>\n",
       "      <td>0.0</td>\n",
       "    </tr>\n",
       "    <tr>\n",
       "      <th>2360</th>\n",
       "      <td>6</td>\n",
       "      <td>0</td>\n",
       "      <td>6</td>\n",
       "      <td>1.0</td>\n",
       "      <td>0.0</td>\n",
       "    </tr>\n",
       "  </tbody>\n",
       "</table>\n",
       "</div>"
      ],
      "text/plain": [
       "           n_human  n_object  total_pronouns  ratio_human  ratio_object\n",
       "review_id                                                              \n",
       "2974             6         0               6          1.0           0.0\n",
       "357              9         0               9          1.0           0.0\n",
       "2671             3         0               3          1.0           0.0\n",
       "2670             6         0               6          1.0           0.0\n",
       "2360             6         0               6          1.0           0.0"
      ]
     },
     "execution_count": 17,
     "metadata": {},
     "output_type": "execute_result"
    }
   ],
   "source": [
    "# Aggregate (per support group)\n",
    "group_stats = (df\n",
    "    .groupby('review_id')[['n_human', 'n_object']]\n",
    "    .sum()\n",
    "    .assign(\n",
    "        total_pronouns = lambda d: d['n_human'] + d['n_object'],\n",
    "        ratio_human    = lambda d: d['n_human']  / d['total_pronouns'].replace(0, np.nan),\n",
    "        ratio_object   = lambda d: d['n_object'] / d['total_pronouns'].replace(0, np.nan)\n",
    "    )\n",
    "    .sort_values('ratio_human', ascending=False)\n",
    ")\n",
    "\n",
    "group_stats.head()\n",
    "\n",
    "# Note to self:\n",
    "##ratio_human > 0.5 → more person-like references\n",
    "##ratio_human ≈ 0 → mainly “it/its”\n"
   ]
  },
  {
   "cell_type": "code",
   "execution_count": 21,
   "metadata": {},
   "outputs": [
    {
     "data": {
      "image/png": "[encoded data removed]",
      "text/plain": [
       "<Figure size 1000x500 with 1 Axes>"
      ]
     },
     "metadata": {},
     "output_type": "display_data"
    }
   ],
   "source": [
    "#Visual\n",
    "\n",
    "AGG_COL = 'primary_support_type'   \n",
    "\n",
    "agg_stats = (df\n",
    "    .groupby(AGG_COL)[['n_human', 'n_object']]\n",
    "    .sum()\n",
    "    .assign(total=lambda d: d.sum(axis=1),\n",
    "            ratio_human=lambda d: d['n_human']/d['total'])\n",
    "    .query('total >= 20')           # hide small groups\n",
    "    .sort_values('ratio_human')\n",
    ")\n",
    "\n",
    "plt.figure(figsize=(10,5))\n",
    "sns.barplot(y=agg_stats.index, x=agg_stats['ratio_human'], orient='h')\n",
    "plt.xlabel('Human-pronoun ratio'); plt.ylabel(AGG_COL)\n",
    "plt.title('Personification ratio by '+AGG_COL)\n",
    "plt.tight_layout()\n",
    "plt.show()\n"
   ]
  },
  {
   "cell_type": "code",
   "execution_count": null,
   "metadata": {},
   "outputs": [],
   "source": [
    "## Quantative tests below, do we even want them?"
   ]
  },
  {
   "cell_type": "code",
   "execution_count": 29,
   "metadata": {},
   "outputs": [
    {
     "name": "stdout",
     "output_type": "stream",
     "text": [
      "n_human      5882\n",
      "n_object    11765\n",
      "dtype: int64\n",
      "Chi² = 131.46  (dof=2),   p = 2.846e-29\n"
     ]
    }
   ],
   "source": [
    "# Chi-square test of independence\n",
    "from scipy.stats import chi2_contingency\n",
    "\n",
    "# contingency table\n",
    "cont = agg_stats[['n_human', 'n_object']]      \n",
    "print(cont.sum())                              \n",
    "\n",
    "# Drop rows that have zero in both cells\n",
    "cont = cont[(cont['n_human'] > 0) | (cont['n_object'] > 0)]\n",
    "\n",
    "# Chi-square\n",
    "from scipy.stats import chi2_contingency\n",
    "chi2, p, dof, expected = chi2_contingency(cont.values)\n",
    "\n",
    "print(f\"Chi² = {chi2:.2f}  (dof={dof}),   p = {p:.4g}\")\n",
    "\n",
    "# Result: Pronoun type and support type are not independent = the mix of human-like vs object pronouns is meaningfully different across the three support categories.\n"
   ]
  },
  {
   "cell_type": "code",
   "execution_count": 30,
   "metadata": {},
   "outputs": [
    {
     "name": "stdout",
     "output_type": "stream",
     "text": [
      "Cramér's V = 0.086\n"
     ]
    }
   ],
   "source": [
    "# Cramer's V: how big is the association (0 – 1 scale)?\n",
    "\n",
    "cramer_v = np.sqrt(chi2 / (cont.values.sum() * (min(cont.shape)-1)))\n",
    "print(\"Cramér's V =\", round(cramer_v, 3))\n",
    "\n",
    "#Thresholds for Interpretation\n",
    "## ≈ 0.10\tSmall association (ours is just short of small).\n",
    "## ≈ 0.30\tMedium\n",
    "## ≥ 0.50\tLarge\n"
   ]
  },
  {
   "cell_type": "code",
   "execution_count": 31,
   "metadata": {},
   "outputs": [
    {
     "data": {
      "text/html": [
       "<div>\n",
       "<style scoped>\n",
       "    .dataframe tbody tr th:only-of-type {\n",
       "        vertical-align: middle;\n",
       "    }\n",
       "\n",
       "    .dataframe tbody tr th {\n",
       "        vertical-align: top;\n",
       "    }\n",
       "\n",
       "    .dataframe thead th {\n",
       "        text-align: right;\n",
       "    }\n",
       "</style>\n",
       "<table border=\"1\" class=\"dataframe\">\n",
       "  <thead>\n",
       "    <tr style=\"text-align: right;\">\n",
       "      <th></th>\n",
       "      <th>n_human</th>\n",
       "      <th>n_object</th>\n",
       "    </tr>\n",
       "    <tr>\n",
       "      <th>primary_support_type</th>\n",
       "      <th></th>\n",
       "      <th></th>\n",
       "    </tr>\n",
       "  </thead>\n",
       "  <tbody>\n",
       "    <tr>\n",
       "      <th>therapist</th>\n",
       "      <td>-6.803652</td>\n",
       "      <td>4.810704</td>\n",
       "    </tr>\n",
       "    <tr>\n",
       "      <th>friend</th>\n",
       "      <td>2.868155</td>\n",
       "      <td>-2.028006</td>\n",
       "    </tr>\n",
       "    <tr>\n",
       "      <th>partner</th>\n",
       "      <td>5.755459</td>\n",
       "      <td>-4.069551</td>\n",
       "    </tr>\n",
       "  </tbody>\n",
       "</table>\n",
       "</div>"
      ],
      "text/plain": [
       "                       n_human  n_object\n",
       "primary_support_type                    \n",
       "therapist            -6.803652  4.810704\n",
       "friend                2.868155 -2.028006\n",
       "partner               5.755459 -4.069551"
      ]
     },
     "metadata": {},
     "output_type": "display_data"
    }
   ],
   "source": [
    "# Standardised residuals\n",
    "resid = (cont - expected) / np.sqrt(expected)\n",
    "display(resid)\n",
    "\n",
    "##Therapist vs Partner contrast: they pull in opposite directions and explain why the overall Chi-square is large even though Cramér’s V is small.\n",
    "##Friend sits in the middle."
   ]
  },
  {
   "cell_type": "code",
   "execution_count": null,
   "metadata": {},
   "outputs": [],
   "source": []
  }
 ],
 "metadata": {
  "kernelspec": {
   "display_name": "Python 3 (ipykernel)",
   "language": "python",
   "name": "python3"
  },
  "language_info": {
   "codemirror_mode": {
    "name": "ipython",
    "version": 3
   },
   "file_extension": ".py",
   "mimetype": "text/x-python",
   "name": "python",
   "nbconvert_exporter": "python",
   "pygments_lexer": "ipython3",
   "version": "3.12.11"
  }
 },
 "nbformat": 4,
 "nbformat_minor": 4
}
