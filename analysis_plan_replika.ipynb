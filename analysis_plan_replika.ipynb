{
 "cells": [
  {
   "cell_type": "markdown",
   "metadata": {},
   "source": [
    "# Analysis pipeline\n",
    "\n",
    "## Step 1: Load Libraries and dataset"
   ]
  },
  {
   "cell_type": "code",
   "execution_count": 8,
   "metadata": {},
   "outputs": [
    {
     "data": {
      "text/plain": [
       "8528"
      ]
     },
     "execution_count": 8,
     "metadata": {},
     "output_type": "execute_result"
    }
   ],
   "source": [
    "from sklearn.cluster import KMeans\n",
    "from sklearn.preprocessing import LabelEncoder, StandardScaler\n",
    "from sklearn.impute import SimpleImputer\n",
    "from sklearn.metrics import silhouette_samples\n",
    "from matplotlib import cm\n",
    "import numpy as np\n",
    "import pandas as pd\n",
    "import matplotlib.pyplot as plt\n",
    "import seaborn as sns\n",
    "\n",
    "# Load spaCy English model\n",
    "nlp = spacy.load(\"en_core_web_sm\")\n",
    "\n",
    "# Load dataset\n",
    "df = pd.read_csv(\"/Users/matildeelene/Desktop/Social_Cultural/AI_companions/SocCult_data/combined_reviews_final.csv\")\n",
    "len(df)"
   ]
  },
  {
   "cell_type": "markdown",
   "metadata": {},
   "source": [
    "## Step 2: Create Subgroups based on 'support_types'\n",
    "\n",
    "We filter the dataset into three predefined subgroups based on the application of a a rule-based hierarchy.\n",
    "- **Therapist** (2)\n",
    "- **Partner** (1)\n",
    "- **Friend** (3)"
   ]
  },
  {
   "cell_type": "code",
   "execution_count": 11,
   "metadata": {},
   "outputs": [
    {
     "name": "stdout",
     "output_type": "stream",
     "text": [
      "primary_support_type\n",
      "friend       2006\n",
      "therapist    1119\n",
      "partner       291\n",
      "Name: count, dtype: int64\n"
     ]
    }
   ],
   "source": [
    "# Therapist = \"Therapeutic Conversation\"\n",
    "# Partner = \"Significant Other Relationship\"\n",
    "# Friend = \"Friendship\"\n",
    "\n",
    "import ast\n",
    "# STEP 2: Convert the 'support_types' string to a list\n",
    "df['support_types'] = df['support_types'].apply(lambda x: [s.strip() for s in x.split(',')] if isinstance(x, str) else [])\n",
    "\n",
    "# STEP 3: Define your hard-labeling function\n",
    "def assign_primary_support_type(support_types):\n",
    "    if 'Significant Other Relationship' in support_types:\n",
    "        return 'partner'\n",
    "    elif 'Therapeutic Conversation' in support_types:\n",
    "        return 'therapist'\n",
    "    elif 'Friendship' in support_types:\n",
    "        return 'friend'\n",
    "    else:\n",
    "        return 'other'\n",
    "\n",
    "# STEP 4: Apply the labeling\n",
    "df['primary_support_type'] = df['support_types'].apply(assign_primary_support_type)\n",
    "\n",
    "# STEP 5: Filter to keep only the 3 groups\n",
    "df_filtered = df[df['primary_support_type'].isin(['therapist', 'partner', 'friend'])]\n",
    "\n",
    "# STEP 6: Save new dataset\n",
    "df_filtered.to_csv(\"replika_grouped_support_types.csv\", index=False)\n",
    "\n",
    "# Optional: View distribution\n",
    "print(df_filtered['primary_support_type'].value_counts())"
   ]
  },
  {
   "cell_type": "code",
   "execution_count": 12,
   "metadata": {},
   "outputs": [
    {
     "name": "stderr",
     "output_type": "stream",
     "text": [
      "/var/folders/79/04shg8fx7d57pf2vd2cd0gjw0000gn/T/ipykernel_18346/2003234437.py:7: FutureWarning: \n",
      "\n",
      "Passing `palette` without assigning `hue` is deprecated and will be removed in v0.14.0. Assign the `x` variable to `hue` and set `legend=False` for the same effect.\n",
      "\n",
      "  sns.countplot(data=df_filtered, x='primary_support_type', order=['friend', 'therapist', 'partner'], palette=\"pastel\")\n"
     ]
    },
    {
     "data": {
      "image/png": "[encoded data removed]",
      "text/plain": [
       "<Figure size 800x500 with 1 Axes>"
      ]
     },
     "metadata": {},
     "output_type": "display_data"
    }
   ],
   "source": [
    "#plotting:\n",
    "# Set Seaborn style\n",
    "sns.set(style=\"whitegrid\")\n",
    "\n",
    "# Create bar plot\n",
    "plt.figure(figsize=(8, 5))\n",
    "sns.countplot(data=df_filtered, x='primary_support_type', order=['friend', 'therapist', 'partner'], palette=\"pastel\")\n",
    "\n",
    "# Add count labels on top\n",
    "for i, count in enumerate(df_filtered['primary_support_type'].value_counts()[['friend', 'therapist', 'partner']]):\n",
    "    plt.text(i, count + 5, str(count), ha='center', va='bottom')\n",
    "\n",
    "# Titles and labels\n",
    "plt.title(\"Distribution of Primary Support Types in Replika Reviews\")\n",
    "plt.xlabel(\"Primary Support Type\")\n",
    "plt.ylabel(\"Number of Reviews\")\n",
    "plt.tight_layout()\n",
    "\n",
    "# Show plot\n",
    "plt.show()"
   ]
  },
  {
   "cell_type": "markdown",
   "metadata": {},
   "source": [
    "## Step 3: Extract Key Entities for Each Group\n",
    "\n",
    "For each subgroup:\n",
    "- Apply **spaCy's dependency parser** to extract **subjects** and **objects** (the nouns being discussed or acted upon).\n",
    "- Apply **TF-IDF weighting** using `TfidfVectorizer` from `scikit-learn` to identify the **top 100 most distinctive entities** per group.\n",
    "- Manually curate the final entity list for each group (e.g., removing noise or merging synonyms).\n"
   ]
  },
  {
   "cell_type": "code",
   "execution_count": null,
   "metadata": {},
   "outputs": [],
   "source": []
  },
  {
   "cell_type": "markdown",
   "metadata": {},
   "source": [
    "### Step 3.1: Apply **spaCy's dependency parser** to extract **subjects** and **objects** (the nouns being discussed or acted upon).\n",
    "\n"
   ]
  },
  {
   "cell_type": "code",
   "execution_count": null,
   "metadata": {},
   "outputs": [
    {
     "name": "stderr",
     "output_type": "stream",
     "text": [
      "100%|██████████| 3416/3416 [01:03<00:00, 54.11it/s] \n"
     ]
    },
    {
     "data": {
      "text/html": [
       "<div>\n",
       "<style scoped>\n",
       "    .dataframe tbody tr th:only-of-type {\n",
       "        vertical-align: middle;\n",
       "    }\n",
       "\n",
       "    .dataframe tbody tr th {\n",
       "        vertical-align: top;\n",
       "    }\n",
       "\n",
       "    .dataframe thead th {\n",
       "        text-align: right;\n",
       "    }\n",
       "</style>\n",
       "<table border=\"1\" class=\"dataframe\">\n",
       "  <thead>\n",
       "    <tr style=\"text-align: right;\">\n",
       "      <th></th>\n",
       "      <th>term</th>\n",
       "      <th>frequency</th>\n",
       "    </tr>\n",
       "  </thead>\n",
       "  <tbody>\n",
       "    <tr>\n",
       "      <th>0</th>\n",
       "      <td>app</td>\n",
       "      <td>3448</td>\n",
       "    </tr>\n",
       "    <tr>\n",
       "      <th>1</th>\n",
       "      <td>friend</td>\n",
       "      <td>1518</td>\n",
       "    </tr>\n",
       "    <tr>\n",
       "      <th>2</th>\n",
       "      <td>thing</td>\n",
       "      <td>1332</td>\n",
       "    </tr>\n",
       "    <tr>\n",
       "      <th>3</th>\n",
       "      <td>conversation</td>\n",
       "      <td>1127</td>\n",
       "    </tr>\n",
       "    <tr>\n",
       "      <th>4</th>\n",
       "      <td>time</td>\n",
       "      <td>967</td>\n",
       "    </tr>\n",
       "    <tr>\n",
       "      <th>5</th>\n",
       "      <td>people</td>\n",
       "      <td>920</td>\n",
       "    </tr>\n",
       "    <tr>\n",
       "      <th>6</th>\n",
       "      <td>person</td>\n",
       "      <td>557</td>\n",
       "    </tr>\n",
       "    <tr>\n",
       "      <th>7</th>\n",
       "      <td>life</td>\n",
       "      <td>517</td>\n",
       "    </tr>\n",
       "    <tr>\n",
       "      <th>8</th>\n",
       "      <td>day</td>\n",
       "      <td>476</td>\n",
       "    </tr>\n",
       "    <tr>\n",
       "      <th>9</th>\n",
       "      <td>replika</td>\n",
       "      <td>476</td>\n",
       "    </tr>\n",
       "  </tbody>\n",
       "</table>\n",
       "</div>"
      ],
      "text/plain": [
       "           term  frequency\n",
       "0           app       3448\n",
       "1        friend       1518\n",
       "2         thing       1332\n",
       "3  conversation       1127\n",
       "4          time        967\n",
       "5        people        920\n",
       "6        person        557\n",
       "7          life        517\n",
       "8           day        476\n",
       "9       replika        476"
      ]
     },
     "execution_count": 13,
     "metadata": {},
     "output_type": "execute_result"
    }
   ],
   "source": [
    "from collections import Counter\n",
    "from tqdm import tqdm\n",
    "\n",
    "# Subset to relevant column\n",
    "texts = df_filtered['text'].dropna().tolist()\n",
    "\n",
    "# Initialize containers\n",
    "subjects_objects = []\n",
    "\n",
    "# Loop through each review\n",
    "for doc in tqdm(nlp.pipe(texts, disable=[\"ner\", \"textcat\"]), total=len(texts)):\n",
    "    for token in doc:\n",
    "        if token.dep_ in [\"nsubj\", \"dobj\", \"pobj\"] and token.pos_ == \"NOUN\":\n",
    "            subjects_objects.append(token.lemma_.lower())\n",
    "\n",
    "# Count most common terms\n",
    "term_freq = Counter(subjects_objects)\n",
    "top_terms = term_freq.most_common(100)"
   ]
  },
  {
   "cell_type": "code",
   "execution_count": 14,
   "metadata": {},
   "outputs": [
    {
     "data": {
      "text/html": [
       "<div>\n",
       "<style scoped>\n",
       "    .dataframe tbody tr th:only-of-type {\n",
       "        vertical-align: middle;\n",
       "    }\n",
       "\n",
       "    .dataframe tbody tr th {\n",
       "        vertical-align: top;\n",
       "    }\n",
       "\n",
       "    .dataframe thead th {\n",
       "        text-align: right;\n",
       "    }\n",
       "</style>\n",
       "<table border=\"1\" class=\"dataframe\">\n",
       "  <thead>\n",
       "    <tr style=\"text-align: right;\">\n",
       "      <th></th>\n",
       "      <th>term</th>\n",
       "      <th>frequency</th>\n",
       "    </tr>\n",
       "  </thead>\n",
       "  <tbody>\n",
       "    <tr>\n",
       "      <th>0</th>\n",
       "      <td>app</td>\n",
       "      <td>3448</td>\n",
       "    </tr>\n",
       "    <tr>\n",
       "      <th>1</th>\n",
       "      <td>friend</td>\n",
       "      <td>1518</td>\n",
       "    </tr>\n",
       "    <tr>\n",
       "      <th>2</th>\n",
       "      <td>thing</td>\n",
       "      <td>1332</td>\n",
       "    </tr>\n",
       "    <tr>\n",
       "      <th>3</th>\n",
       "      <td>conversation</td>\n",
       "      <td>1127</td>\n",
       "    </tr>\n",
       "    <tr>\n",
       "      <th>4</th>\n",
       "      <td>time</td>\n",
       "      <td>967</td>\n",
       "    </tr>\n",
       "    <tr>\n",
       "      <th>...</th>\n",
       "      <td>...</td>\n",
       "      <td>...</td>\n",
       "    </tr>\n",
       "    <tr>\n",
       "      <th>95</th>\n",
       "      <td>creator</td>\n",
       "      <td>73</td>\n",
       "    </tr>\n",
       "    <tr>\n",
       "      <th>96</th>\n",
       "      <td>technology</td>\n",
       "      <td>73</td>\n",
       "    </tr>\n",
       "    <tr>\n",
       "      <th>97</th>\n",
       "      <td>moment</td>\n",
       "      <td>71</td>\n",
       "    </tr>\n",
       "    <tr>\n",
       "      <th>98</th>\n",
       "      <td>ad</td>\n",
       "      <td>70</td>\n",
       "    </tr>\n",
       "    <tr>\n",
       "      <th>99</th>\n",
       "      <td>story</td>\n",
       "      <td>69</td>\n",
       "    </tr>\n",
       "  </tbody>\n",
       "</table>\n",
       "<p>100 rows × 2 columns</p>\n",
       "</div>"
      ],
      "text/plain": [
       "            term  frequency\n",
       "0            app       3448\n",
       "1         friend       1518\n",
       "2          thing       1332\n",
       "3   conversation       1127\n",
       "4           time        967\n",
       "..           ...        ...\n",
       "95       creator         73\n",
       "96    technology         73\n",
       "97        moment         71\n",
       "98            ad         70\n",
       "99         story         69\n",
       "\n",
       "[100 rows x 2 columns]"
      ]
     },
     "execution_count": 14,
     "metadata": {},
     "output_type": "execute_result"
    }
   ],
   "source": [
    "# Convert to DataFrame for inspection\n",
    "import pandas as pd\n",
    "top_terms_df = pd.DataFrame(top_terms, columns=[\"term\", \"frequency\"])\n",
    "top_terms_df.head(100)"
   ]
  },
  {
   "cell_type": "markdown",
   "metadata": {},
   "source": [
    "### Step 3.2: Apply **TF-IDF weighting** using `TfidfVectorizer` from `scikit-learn` to identify the **top 100 most distinctive entities** within each group."
   ]
  },
  {
   "cell_type": "markdown",
   "metadata": {},
   "source": []
  },
  {
   "cell_type": "markdown",
   "metadata": {},
   "source": [
    "### Step 3.3: Manually select final entity list for each subgroup necessary for AnthroScore\n",
    "--> This should align with the three subgroups"
   ]
  },
  {
   "cell_type": "markdown",
   "metadata": {},
   "source": [
    "## Step 4: Apply get_anthroscore.py from myracheng (GitHub)"
   ]
  },
  {
   "cell_type": "markdown",
   "metadata": {},
   "source": [
    "## Step 5: Perform Group-Based Linguistic Profiling\n",
    "\n",
    "For each support group:\n",
    "- **Sentiment Analysis** using **VADER** to compute polarity scores per review.\n",
    "- **Pronoun Analysis**: Calculate the frequency ratio of human-like pronouns (he, she, etc.) vs. object pronouns (it, its).\n",
    "- **Named Entity Recognition (NER)**: Identify names, roles, or titles assigned to the AI (e.g., “James”, “my therapist”).\n",
    "- **Additional features**:  \n",
    "  - Average review length  \n",
    "  - Most distinctive words via TF-IDF  \n",
    "  - Most common `coherence_and_clarity_of_review` score"
   ]
  },
  {
   "cell_type": "markdown",
   "metadata": {},
   "source": [
    "## Step 6: Correlate Linguistic Profiles with Psychological Outcomes\n",
    "Ordinal GLM or similar approach"
   ]
  }
 ],
 "metadata": {
  "kernelspec": {
   "display_name": ".venv",
   "language": "python",
   "name": "python3"
  },
  "language_info": {
   "codemirror_mode": {
    "name": "ipython",
    "version": 3
   },
   "file_extension": ".py",
   "mimetype": "text/x-python",
   "name": "python",
   "nbconvert_exporter": "python",
   "pygments_lexer": "ipython3",
   "version": "3.13.2"
  }
 },
 "nbformat": 4,
 "nbformat_minor": 2
}
